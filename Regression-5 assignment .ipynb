{
 "cells": [
  {
   "cell_type": "markdown",
   "id": "8ae55161-d72e-4cac-938c-7682850891ed",
   "metadata": {},
   "source": [
    "Q1. What is Elastic Net Regression and how does it differ from other regression techniques?"
   ]
  },
  {
   "cell_type": "markdown",
   "id": "949061f2-4b53-450d-ad1e-91c379e866d5",
   "metadata": {},
   "source": [
    "Elastic Net Regression is a combination of  Ridge, Lasso Regression , it mean's this technique apply Ridge ( Overfitting ) and Lasso ( Feature selection ) Regression both at same time in same dataset.\n",
    "\n",
    "where , Ridge Regression only app Overfitting on the dataset and Lasso Regression only apply feature selection on the dataset."
   ]
  },
  {
   "cell_type": "markdown",
   "id": "e99037b5-c972-4d62-965d-b8423ff2750d",
   "metadata": {},
   "source": [
    "Q2. How do you choose the optimal values of the regularization parameters for Elastic Net Regression?"
   ]
  },
  {
   "cell_type": "markdown",
   "id": "cab35143-dfcd-4e86-aefa-eb8f2c4f5a65",
   "metadata": {},
   "source": [
    "For choose the optimal values of the regularization parameters for Elastic Net Regression there is a some step :\n",
    "\n",
    "    - Split the data\n",
    "    - Define the parameter grid\n",
    "    - Perform cross-validation\n",
    "    - Evaluate performance\n",
    "    - Select the best parameters\n",
    "    - Test on a separate test set"
   ]
  },
  {
   "cell_type": "markdown",
   "id": "23121d09-7586-4514-ba19-6ba0935fe82e",
   "metadata": {},
   "source": [
    "Q3. What are the advantages and disadvantages of Elastic Net Regression?"
   ]
  },
  {
   "cell_type": "markdown",
   "id": "6e704580-4a95-4423-92a7-e35c7ca97040",
   "metadata": {},
   "source": [
    "ADVANTAGE -  it can handle multicollinearity better than lasso regression by grouping correlated features and selecting the most representative ones"
   ]
  },
  {
   "cell_type": "markdown",
   "id": "4610a94e-ed24-4b9a-868e-3a10c1043c00",
   "metadata": {},
   "source": [
    "DISADVANTAGE - requiring more computational resources and time due to two regularization parameters and a cross-validation process."
   ]
  },
  {
   "cell_type": "markdown",
   "id": "a9470e0e-2925-43c6-92dd-9eb639b82927",
   "metadata": {},
   "source": [
    "Q4. What are some common use cases for Elastic Net Regression?"
   ]
  },
  {
   "cell_type": "markdown",
   "id": "89419868-094c-462a-844d-3282c0315ff0",
   "metadata": {},
   "source": [
    "The comon use of Elastic Net Regression is overfitting and feature selection."
   ]
  },
  {
   "cell_type": "markdown",
   "id": "9899a8f8-e45d-4e0e-a9e9-c82811b7a85f",
   "metadata": {},
   "source": [
    "Q5. How do you interpret the coefficients in Elastic Net Regression?"
   ]
  },
  {
   "cell_type": "markdown",
   "id": "2b260397-c1de-4ea6-9c70-13ce9820a07b",
   "metadata": {},
   "source": [
    "The larger the absolute value of a coefficient, the stronger the effect of the corresponding feature on the target variable."
   ]
  },
  {
   "cell_type": "markdown",
   "id": "b4be7aa6-a988-4228-9b09-972ba2de2691",
   "metadata": {},
   "source": [
    "Q6. How do you handle missing values when using Elastic Net Regression?"
   ]
  },
  {
   "cell_type": "markdown",
   "id": "97af8421-a335-4a2e-be38-886b491abeca",
   "metadata": {},
   "source": [
    "Some methods - imputation, maximum likelihood estimation, or Bayesian methods."
   ]
  },
  {
   "cell_type": "markdown",
   "id": "d66693f0-4878-46e0-b15d-fb12f1b699b1",
   "metadata": {},
   "source": [
    "Q7. How do you use Elastic Net Regression for feature selection?"
   ]
  },
  {
   "cell_type": "markdown",
   "id": "48374ef8-3581-442a-99e2-36afe87b2565",
   "metadata": {},
   "source": [
    "__buy using this type of code :__"
   ]
  },
  {
   "cell_type": "raw",
   "id": "6e214ca2-fd11-4aa4-9459-abf030da7164",
   "metadata": {},
   "source": [
    "from sklearn.linear_model import ElasticNet\n",
    "from sklearn.metrics import mean_absolute_error\n",
    "from sklearn.metrics import r2_score\n",
    "en = ElasticNet()\n",
    "en.fit(X_train_scaled , y_train)\n",
    "y_pred = en.predict(X_test_scaled)\n",
    "mae = mean_absolute_error(y_test , y_pred)\n",
    "r_score = r2_score(y_test , y_pred)\n",
    "print('mean absolute error' , mae)\n",
    "print('r2 score' , r_score)"
   ]
  },
  {
   "cell_type": "markdown",
   "id": "0b55a978-0e61-4a52-a194-2870aa695abb",
   "metadata": {},
   "source": [
    "Q8. How do you pickle and unpickle a trained Elastic Net Regression model in Python?"
   ]
  },
  {
   "cell_type": "raw",
   "id": "38d2f8e9-c6e9-49d7-a26e-87775fb88f8c",
   "metadata": {},
   "source": [
    "import pickle\n",
    "pickle.dump(Elastic_Net_Regression , open('Elastic_Net_Regression.pkl' , 'wb')) # For_pickle_the_file \n",
    "\n",
    "un_pickle = pickle.load(open('Elastic_Net_Regression.pkl' , 'rb')) # For_unpickle_the_pickle_file "
   ]
  },
  {
   "cell_type": "markdown",
   "id": "dfefc03b-4fcb-4d7c-91ef-fa61ddf61118",
   "metadata": {},
   "source": [
    "Q9. What is the purpose of pickling a model in machine learning?"
   ]
  },
  {
   "cell_type": "markdown",
   "id": "71d19308-0840-4e33-a920-3fd18fccbcab",
   "metadata": {},
   "source": [
    "Purpose of pickling the model of machine learning model , if we pickle the machine learning model than we use the model for predection and for other thing without writing a lines of code."
   ]
  },
  {
   "cell_type": "code",
   "execution_count": null,
   "id": "2e2aa032-9ca3-45da-b437-20871f604a3a",
   "metadata": {},
   "outputs": [],
   "source": []
  }
 ],
 "metadata": {
  "kernelspec": {
   "display_name": "Python 3 (ipykernel)",
   "language": "python",
   "name": "python3"
  },
  "language_info": {
   "codemirror_mode": {
    "name": "ipython",
    "version": 3
   },
   "file_extension": ".py",
   "mimetype": "text/x-python",
   "name": "python",
   "nbconvert_exporter": "python",
   "pygments_lexer": "ipython3",
   "version": "3.10.8"
  }
 },
 "nbformat": 4,
 "nbformat_minor": 5
}
